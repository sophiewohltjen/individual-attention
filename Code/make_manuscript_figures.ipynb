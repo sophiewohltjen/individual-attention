{
 "cells": [
  {
   "cell_type": "code",
   "execution_count": 1,
   "metadata": {},
   "outputs": [],
   "source": [
    "import os\n",
    "import glob"
   ]
  },
  {
   "cell_type": "code",
   "execution_count": 30,
   "metadata": {},
   "outputs": [],
   "source": [
    "base_directory = \"/Users/Sophie/Dropbox/IRF_modeling/individual-attention\"\n",
    "study = \"study3\"\n",
    "rawfiles = glob.glob(\"{0}/Data/{1}/raw_pupils/*.txt\".format(base_directory,study))\n",
    "file = rawfiles[5]"
   ]
  },
  {
   "cell_type": "code",
   "execution_count": 23,
   "metadata": {},
   "outputs": [],
   "source": [
    "if study == \"study1\":\n",
    "    sub = file[file.find('raw_pupils')+11:file.find('raw_pupils')+16]\n",
    "elif study == \"study2\":\n",
    "    sub = file[file.find('raw_pupils')+11:file.find('oddball')-1]\n",
    "    if len(sub) < 3:\n",
    "        while(len(sub) < 3):\n",
    "            sub = '0' + sub\n",
    "elif study == \"study3\":\n",
    "    if file.find('listen') == -1:\n",
    "        sub = file[file.find('raw_pupils')+11:file.find('speak')-1]\n",
    "    else:\n",
    "        sub = file[file.find('raw_pupils')+11:file.find('listen')-1]\n",
    "    if len(sub) < 3:\n",
    "        while(len(sub) < 3):\n",
    "            sub = '0' + sub\n",
    "            "
   ]
  },
  {
   "cell_type": "code",
   "execution_count": 31,
   "metadata": {},
   "outputs": [
    {
     "data": {
      "text/plain": [
       "-1"
      ]
     },
     "execution_count": 31,
     "metadata": {},
     "output_type": "execute_result"
    }
   ],
   "source": [
    "file.find('listen')"
   ]
  },
  {
   "cell_type": "code",
   "execution_count": 29,
   "metadata": {},
   "outputs": [
    {
     "data": {
      "text/plain": [
       "['/Users/Sophie/Dropbox/IRF_modeling/individual-attention/Data/study3/raw_pupils/053_listen_raw.txt',\n",
       " '/Users/Sophie/Dropbox/IRF_modeling/individual-attention/Data/study3/raw_pupils/022_listen_raw.txt',\n",
       " '/Users/Sophie/Dropbox/IRF_modeling/individual-attention/Data/study3/raw_pupils/037_listen_raw.txt',\n",
       " '/Users/Sophie/Dropbox/IRF_modeling/individual-attention/Data/study3/raw_pupils/038_listen_raw.txt',\n",
       " '/Users/Sophie/Dropbox/IRF_modeling/individual-attention/Data/study3/raw_pupils/054_listen_raw.txt',\n",
       " '/Users/Sophie/Dropbox/IRF_modeling/individual-attention/Data/study3/raw_pupils/15_speak_raw.txt',\n",
       " '/Users/Sophie/Dropbox/IRF_modeling/individual-attention/Data/study3/raw_pupils/030_listen_raw.txt',\n",
       " '/Users/Sophie/Dropbox/IRF_modeling/individual-attention/Data/study3/raw_pupils/055_listen_raw.txt',\n",
       " '/Users/Sophie/Dropbox/IRF_modeling/individual-attention/Data/study3/raw_pupils/031_listen_raw.txt',\n",
       " '/Users/Sophie/Dropbox/IRF_modeling/individual-attention/Data/study3/raw_pupils/039_listen_raw.txt',\n",
       " '/Users/Sophie/Dropbox/IRF_modeling/individual-attention/Data/study3/raw_pupils/16_speak_raw.txt',\n",
       " '/Users/Sophie/Dropbox/IRF_modeling/individual-attention/Data/study3/raw_pupils/036_listen_raw.txt',\n",
       " '/Users/Sophie/Dropbox/IRF_modeling/individual-attention/Data/study3/raw_pupils/023_listen_raw.txt',\n",
       " '/Users/Sophie/Dropbox/IRF_modeling/individual-attention/Data/study3/raw_pupils/034_listen_raw.txt',\n",
       " '/Users/Sophie/Dropbox/IRF_modeling/individual-attention/Data/study3/raw_pupils/021_listen_raw.txt',\n",
       " '/Users/Sophie/Dropbox/IRF_modeling/individual-attention/Data/study3/raw_pupils/058_listen_raw.txt',\n",
       " '/Users/Sophie/Dropbox/IRF_modeling/individual-attention/Data/study3/raw_pupils/029_listen_raw.txt',\n",
       " '/Users/Sophie/Dropbox/IRF_modeling/individual-attention/Data/study3/raw_pupils/026_listen_raw.txt',\n",
       " '/Users/Sophie/Dropbox/IRF_modeling/individual-attention/Data/study3/raw_pupils/033_listen_raw.txt',\n",
       " '/Users/Sophie/Dropbox/IRF_modeling/individual-attention/Data/study3/raw_pupils/057_listen_raw.txt',\n",
       " '/Users/Sophie/Dropbox/IRF_modeling/individual-attention/Data/study3/raw_pupils/032_listen_raw.txt',\n",
       " '/Users/Sophie/Dropbox/IRF_modeling/individual-attention/Data/study3/raw_pupils/027_listen_raw.txt',\n",
       " '/Users/Sophie/Dropbox/IRF_modeling/individual-attention/Data/study3/raw_pupils/056_listen_raw.txt',\n",
       " '/Users/Sophie/Dropbox/IRF_modeling/individual-attention/Data/study3/raw_pupils/059_listen_raw.txt',\n",
       " '/Users/Sophie/Dropbox/IRF_modeling/individual-attention/Data/study3/raw_pupils/028_listen_raw.txt',\n",
       " '/Users/Sophie/Dropbox/IRF_modeling/individual-attention/Data/study3/raw_pupils/020_listen_raw.txt',\n",
       " '/Users/Sophie/Dropbox/IRF_modeling/individual-attention/Data/study3/raw_pupils/078_listen_raw.txt',\n",
       " '/Users/Sophie/Dropbox/IRF_modeling/individual-attention/Data/study3/raw_pupils/009_listen_raw.txt',\n",
       " '/Users/Sophie/Dropbox/IRF_modeling/individual-attention/Data/study3/raw_pupils/087_listen_raw.txt',\n",
       " '/Users/Sophie/Dropbox/IRF_modeling/individual-attention/Data/study3/raw_pupils/092_listen_raw.txt',\n",
       " '/Users/Sophie/Dropbox/IRF_modeling/individual-attention/Data/study3/raw_pupils/102_listen_raw.txt',\n",
       " '/Users/Sophie/Dropbox/IRF_modeling/individual-attention/Data/study3/raw_pupils/014_listen_raw.txt',\n",
       " '/Users/Sophie/Dropbox/IRF_modeling/individual-attention/Data/study3/raw_pupils/001_listen_raw.txt',\n",
       " '/Users/Sophie/Dropbox/IRF_modeling/individual-attention/Data/study3/raw_pupils/070_listen_raw.txt',\n",
       " '/Users/Sophie/Dropbox/IRF_modeling/individual-attention/Data/study3/raw_pupils/065_listen_raw.txt',\n",
       " '/Users/Sophie/Dropbox/IRF_modeling/individual-attention/Data/study3/raw_pupils/095_listen_raw.txt',\n",
       " '/Users/Sophie/Dropbox/IRF_modeling/individual-attention/Data/study3/raw_pupils/080_listen_raw.txt',\n",
       " '/Users/Sophie/Dropbox/IRF_modeling/individual-attention/Data/study3/raw_pupils/006_listen_raw.txt',\n",
       " '/Users/Sophie/Dropbox/IRF_modeling/individual-attention/Data/study3/raw_pupils/013_listen_raw.txt',\n",
       " '/Users/Sophie/Dropbox/IRF_modeling/individual-attention/Data/study3/raw_pupils/105_listen_raw.txt',\n",
       " '/Users/Sophie/Dropbox/IRF_modeling/individual-attention/Data/study3/raw_pupils/088_listen_raw.txt',\n",
       " '/Users/Sophie/Dropbox/IRF_modeling/individual-attention/Data/study3/raw_pupils/062_listen_raw.txt',\n",
       " '/Users/Sophie/Dropbox/IRF_modeling/individual-attention/Data/study3/raw_pupils/077_listen_raw.txt',\n",
       " '/Users/Sophie/Dropbox/IRF_modeling/individual-attention/Data/study3/raw_pupils/089_listen_raw.txt',\n",
       " '/Users/Sophie/Dropbox/IRF_modeling/individual-attention/Data/study3/raw_pupils/104_listen_raw.txt',\n",
       " '/Users/Sophie/Dropbox/IRF_modeling/individual-attention/Data/study3/raw_pupils/012_listen_raw.txt',\n",
       " '/Users/Sophie/Dropbox/IRF_modeling/individual-attention/Data/study3/raw_pupils/007_listen_raw.txt',\n",
       " '/Users/Sophie/Dropbox/IRF_modeling/individual-attention/Data/study3/raw_pupils/076_listen_raw.txt',\n",
       " '/Users/Sophie/Dropbox/IRF_modeling/individual-attention/Data/study3/raw_pupils/063_listen_raw.txt',\n",
       " '/Users/Sophie/Dropbox/IRF_modeling/individual-attention/Data/study3/raw_pupils/081_listen_raw.txt',\n",
       " '/Users/Sophie/Dropbox/IRF_modeling/individual-attention/Data/study3/raw_pupils/094_listen_raw.txt',\n",
       " '/Users/Sophie/Dropbox/IRF_modeling/individual-attention/Data/study3/raw_pupils/015_listen_raw.txt',\n",
       " '/Users/Sophie/Dropbox/IRF_modeling/individual-attention/Data/study3/raw_pupils/103_listen_raw.txt',\n",
       " '/Users/Sophie/Dropbox/IRF_modeling/individual-attention/Data/study3/raw_pupils/064_listen_raw.txt',\n",
       " '/Users/Sophie/Dropbox/IRF_modeling/individual-attention/Data/study3/raw_pupils/071_listen_raw.txt',\n",
       " '/Users/Sophie/Dropbox/IRF_modeling/individual-attention/Data/study3/raw_pupils/079_listen_raw.txt',\n",
       " '/Users/Sophie/Dropbox/IRF_modeling/individual-attention/Data/study3/raw_pupils/093_listen_raw.txt',\n",
       " '/Users/Sophie/Dropbox/IRF_modeling/individual-attention/Data/study3/raw_pupils/086_listen_raw.txt',\n",
       " '/Users/Sophie/Dropbox/IRF_modeling/individual-attention/Data/study3/raw_pupils/008_listen_raw.txt',\n",
       " '/Users/Sophie/Dropbox/IRF_modeling/individual-attention/Data/study3/raw_pupils/17_speak_raw.txt',\n",
       " '/Users/Sophie/Dropbox/IRF_modeling/individual-attention/Data/study3/raw_pupils/066_listen_raw.txt',\n",
       " '/Users/Sophie/Dropbox/IRF_modeling/individual-attention/Data/study3/raw_pupils/073_listen_raw.txt',\n",
       " '/Users/Sophie/Dropbox/IRF_modeling/individual-attention/Data/study3/raw_pupils/099_listen_raw.txt',\n",
       " '/Users/Sophie/Dropbox/IRF_modeling/individual-attention/Data/study3/raw_pupils/101_listen_raw.txt',\n",
       " '/Users/Sophie/Dropbox/IRF_modeling/individual-attention/Data/study3/raw_pupils/002_listen_raw.txt',\n",
       " '/Users/Sophie/Dropbox/IRF_modeling/individual-attention/Data/study3/raw_pupils/017_listen_raw.txt',\n",
       " '/Users/Sophie/Dropbox/IRF_modeling/individual-attention/Data/study3/raw_pupils/091_listen_raw.txt',\n",
       " '/Users/Sophie/Dropbox/IRF_modeling/individual-attention/Data/study3/raw_pupils/084_listen_raw.txt',\n",
       " '/Users/Sophie/Dropbox/IRF_modeling/individual-attention/Data/study3/raw_pupils/074_listen_raw.txt',\n",
       " '/Users/Sophie/Dropbox/IRF_modeling/individual-attention/Data/study3/raw_pupils/061_listen_raw.txt',\n",
       " '/Users/Sophie/Dropbox/IRF_modeling/individual-attention/Data/study3/raw_pupils/010_listen_raw.txt',\n",
       " '/Users/Sophie/Dropbox/IRF_modeling/individual-attention/Data/study3/raw_pupils/005_listen_raw.txt',\n",
       " '/Users/Sophie/Dropbox/IRF_modeling/individual-attention/Data/study3/raw_pupils/106_listen_raw.txt',\n",
       " '/Users/Sophie/Dropbox/IRF_modeling/individual-attention/Data/study3/raw_pupils/083_listen_raw.txt',\n",
       " '/Users/Sophie/Dropbox/IRF_modeling/individual-attention/Data/study3/raw_pupils/096_listen_raw.txt',\n",
       " '/Users/Sophie/Dropbox/IRF_modeling/individual-attention/Data/study3/raw_pupils/018_listen_raw.txt',\n",
       " '/Users/Sophie/Dropbox/IRF_modeling/individual-attention/Data/study3/raw_pupils/069_listen_raw.txt',\n",
       " '/Users/Sophie/Dropbox/IRF_modeling/individual-attention/Data/study3/raw_pupils/097_listen_raw.txt',\n",
       " '/Users/Sophie/Dropbox/IRF_modeling/individual-attention/Data/study3/raw_pupils/082_listen_raw.txt',\n",
       " '/Users/Sophie/Dropbox/IRF_modeling/individual-attention/Data/study3/raw_pupils/068_listen_raw.txt',\n",
       " '/Users/Sophie/Dropbox/IRF_modeling/individual-attention/Data/study3/raw_pupils/060_listen_raw.txt',\n",
       " '/Users/Sophie/Dropbox/IRF_modeling/individual-attention/Data/study3/raw_pupils/075_listen_raw.txt',\n",
       " '/Users/Sophie/Dropbox/IRF_modeling/individual-attention/Data/study3/raw_pupils/004_listen_raw.txt',\n",
       " '/Users/Sophie/Dropbox/IRF_modeling/individual-attention/Data/study3/raw_pupils/011_listen_raw.txt',\n",
       " '/Users/Sophie/Dropbox/IRF_modeling/individual-attention/Data/study3/raw_pupils/085_listen_raw.txt',\n",
       " '/Users/Sophie/Dropbox/IRF_modeling/individual-attention/Data/study3/raw_pupils/090_listen_raw.txt',\n",
       " '/Users/Sophie/Dropbox/IRF_modeling/individual-attention/Data/study3/raw_pupils/03_speak_raw.txt',\n",
       " '/Users/Sophie/Dropbox/IRF_modeling/individual-attention/Data/study3/raw_pupils/072_listen_raw.txt',\n",
       " '/Users/Sophie/Dropbox/IRF_modeling/individual-attention/Data/study3/raw_pupils/067_listen_raw.txt',\n",
       " '/Users/Sophie/Dropbox/IRF_modeling/individual-attention/Data/study3/raw_pupils/016_listen_raw.txt',\n",
       " '/Users/Sophie/Dropbox/IRF_modeling/individual-attention/Data/study3/raw_pupils/003_listen_raw.txt',\n",
       " '/Users/Sophie/Dropbox/IRF_modeling/individual-attention/Data/study3/raw_pupils/100_listen_raw.txt',\n",
       " '/Users/Sophie/Dropbox/IRF_modeling/individual-attention/Data/study3/raw_pupils/098_listen_raw.txt']"
      ]
     },
     "execution_count": 29,
     "metadata": {},
     "output_type": "execute_result"
    }
   ],
   "source": [
    "rawfiles"
   ]
  },
  {
   "cell_type": "code",
   "execution_count": null,
   "metadata": {},
   "outputs": [],
   "source": []
  }
 ],
 "metadata": {
  "kernelspec": {
   "display_name": "Python 3",
   "language": "python",
   "name": "python3"
  },
  "language_info": {
   "codemirror_mode": {
    "name": "ipython",
    "version": 3
   },
   "file_extension": ".py",
   "mimetype": "text/x-python",
   "name": "python",
   "nbconvert_exporter": "python",
   "pygments_lexer": "ipython3",
   "version": "3.7.7"
  }
 },
 "nbformat": 4,
 "nbformat_minor": 4
}
